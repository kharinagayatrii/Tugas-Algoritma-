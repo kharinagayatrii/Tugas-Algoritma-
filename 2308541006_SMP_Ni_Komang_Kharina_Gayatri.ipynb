{
  "nbformat": 4,
  "nbformat_minor": 0,
  "metadata": {
    "colab": {
      "provenance": [],
      "authorship_tag": "ABX9TyNcT5zkYfA5WWrA1F1VfcyM",
      "include_colab_link": true
    },
    "kernelspec": {
      "name": "python3",
      "display_name": "Python 3"
    },
    "language_info": {
      "name": "python"
    }
  },
  "cells": [
    {
      "cell_type": "markdown",
      "metadata": {
        "id": "view-in-github",
        "colab_type": "text"
      },
      "source": [
        "<a href=\"https://colab.research.google.com/github/kharinagayatrii/Tugas-Algoritma-/blob/main/2308541006_SMP_Ni_Komang_Kharina_Gayatri.ipynb\" target=\"_parent\"><img src=\"https://colab.research.google.com/assets/colab-badge.svg\" alt=\"Open In Colab\"/></a>"
      ]
    },
    {
      "cell_type": "code",
      "execution_count": 3,
      "metadata": {
        "id": "mVygMMg9sRDo"
      },
      "outputs": [],
      "source": [
        "#Soal:\n",
        "#Diketahui bahwa nilai x memenuhi persamaan kuadrat x**2 + x - 1 = 0\n",
        "#Tentukan nilai dari n yang memenuhi persamaan x sebagai berikut. x**2024 - x**2025 = (x(1-x))**n\n",
        "#Penyelesaian:\n",
        "#1. Pertama, tentukan nilai x yang memenuhi persamaan x**2 + x - 1 = 0. Dengan rumus Hasil Kali Akar Persamaan Kuadrat (ABC) yaitu x1 = -b + (b**2-4*a*c)**1/2 dan x2 = -b - (b**2-4*a*c). Diketahui dari persamaan yang dimiliki koefisien a=1, b=1, dan c=-1.\n",
        "#2. Kedua, setelah menemukan nilai x1 substitusikan ke persamaan x**2024 - x**2025 = (x(1-x))**n untuk menemukan nilai n\n",
        "#3. Ketiga, setelah menemukan nilai x2 substitusikan ke persamaan x**2024 - x**2025 = (x(1-x))**n untuk menemukan nilai n\n",
        "#4. Setelah mensubstitusikan x1 dan x2 ke persamaan x**2024 - x**2025 = (x(1-x))**n, dengan menggunakan sifat logaritma, maka kita akan menemukan nilai n\n",
        "#5. Implementasikan hasil jawaban ke dalam bentuk algoritma"
      ]
    },
    {
      "cell_type": "code",
      "source": [
        "import numpy as np\n",
        "\n",
        "#Mensubstitusikan nilai koefisien pada persamaan kuadrat yang diketahui PADA SOAL.\n",
        "print(\"Diketahui format Persamaan Kuadrat = ax**2 + bx + c\")#Bentuk Persamaan Umum Persamaan Kuadrat\n",
        "print(\"Masukkan nilai koefisien dari persamaan kuadrat PADA SOAL: \") #Masukkan Nilai Koefisien a, b, dan c dari persamaan kuadrat PADA SOAL\n",
        "k_06 = float(input(\"Nilai koefisien a pada ax**2 adalah \"))#Koefisien a PADA SOAL\n",
        "a_06 = float(input(\"Nilai koefisien b pada bx adalah \"))#Koefisien b PADA SOAL\n",
        "n_06 = float(input(\"Nilai konstanta c -Nya adalah \"))#Konstanta c PADA SOAL\n",
        "Fungsi_kuadrat06 = (f\"{int(k_06)}x**2+{int(a_06)}x+{int(n_06)}\")\n",
        "print(f\"Bentuk persamaan kuadrat soal adalah {Fungsi_kuadrat06}. \") #Bentuk lengkap Persamaan Kuadrat PADA SOAL\n",
        "\n",
        "#1. Pertama, tentukan nilai x yang memenuhi persamaan x**2 + x - 1 = 0. Dengan rumus Hasil Kali Akar Persamaan Kuadrat (ABC) yaitu x1 = (-b + (b**2-4*a*c)**1/2)/2*a dan x2 = (-b - (b**2-4*a*c)**1/2)/2*a. Diketahui dari Persamaan Kuadrat PADA SOAL koefisien a=1, b=1, dan c=-1. Sebelumnya harus ditentukan terlebih dahulu nilai Deskriminan (d) dari persamaan kuadrat PADA SOAL.\n",
        "print(\"\\nCari nilai x yang memenuhi persamaan kuadrat PADA SOAL\")\n",
        "print(\"Terlebih dahulu hitung Diskriminan dari persamaan kuadrat PADA SOAL\") #Rumus Hitung Nilai Diskriminan , d = b**2-4*a*c\n",
        "Hitung_Diskriminan06 = (a_06*a_06)-4*k_06*n_06\n",
        "print (f\"Nilai Deskriminan dari Persamaan Kuadrat PADA SOAL adalah {Hitung_Diskriminan06}.\")\n",
        "print(\"Setelah menghitung nilai Diskriminan, maka selanjutnya menentukkan hasil kali akar-akar yang memenuhi persamaan kuadrat \")#Penyelesaian Hasil Kali Persamaan Kuadrat Dapat Menggunakan Rumus ABC\n",
        "print(\"Diketahui, dengan menggunakan Rumus Hasil Kali Akar Persamaan Kuadrat (ABC) maka: \")#Penyelesaian Persamaan Kuadrat Dapat Menggunakan Rumus ABC yaitu  x1 = (-b + (b**2-4*a*c)**1/2)/2*a dan x2 = (-b - (b**2-4*a*c)**1/2)/2*a.\n",
        "akar1_06 = ((-a_06) + Hitung_Diskriminan06**(1/2)) / 2*k_06\n",
        "akar2_06 = ((-a_06) - Hitung_Diskriminan06**(1/2)) / 2*k_06\n",
        "print (f\"Nilai dari x1 adalah {akar1_06} dan nilai dari x2 adalah {akar2_06}\")\n",
        "\n",
        "#2. Kedua, setelah menemukan nilai x1 substitusikan ke persamaan x*2024 - x*2025 = (x*(1-x))**n untuk menemukan nilai n dapat menggunakan penyelesaian aturan logaritma.\n",
        "print(f\"\\nDiketahui nilai dari x1 adalah {akar1_06}, substitusikan ke persamaan x*2024 - x*2025 = (x*(1-x))**n untuk menemukan nilai n\")\n",
        "#Pada ruas kiri dioperasikan dengan log sehingga menjadi log*(x*2024-x*2025) sama dengan log*(x**2024*(1-x)) atau dapat diubah menjadi 2024*log(x)+log(1-x) sesuai dengan sifat logaritma.\n",
        "kiri1_06 = 2024*np.log(abs(akar1_06)) + np.log(abs(1-akar1_06))\n",
        "#Pada ruas kanan dioperasikan juga dengan log sehingga menjadi log(x(1-x))**n sama dengan n*log(x)+log(1-x) sesuai dengan sifat logaritma.\n",
        "kanan1_06 = np.log(abs(akar1_06)) + np.log(abs(1-(akar1_06)))\n",
        "#Bentuk Persamaan baru yang didapat setelah melakukan pengoperasian ruas kanan dan kiri dengan log adalah 2024*log(x)+log(1-x) =  n*log(x)+log(1-x), maka untuk menentukan nilai n (pindah ruas) adalah n = (2024*log(x)+log(1-x))/(log(x)+log(1-x)).\n",
        "n1_06 = (kiri1_06/kanan1_06)\n",
        "print(f\"Jadi telah ditemukan n1 bernilai {(n1_06)}\")\n",
        "\n",
        "#3. Ketiga, setelah menemukan nilai x2 substitusikan ke persamaan x**2024 - x**2025 = (x(1-x))**n untuk menemukan nilai n\n",
        "print(f\"\\nSelanjutnya diketahui nilai dari x2 adalah {akar2_06}, substitusikan ke persamaan x*2024 - x*2025 = (x*(1-x))**n untuk menemukan nilai n\")\n",
        "#Pada ruas kiri dioperasikan dengan log sehingga menjadi log*(x*2024-x*2025) sama dengan log*(x**2024*(1-x)) atau dapat diubah menjadi 2024*log(x)+log(1-x) sesuai dengan sifat logaritma.\n",
        "kiri2_06 = 2024*np.log(abs(akar2_06)) + np.log(abs(1-akar2_06))\n",
        "#Pada ruas kanan dioperasikan juga dengan log sehingga menjadi log(x(1-x))**n sama dengan n*log(x)+log(1-x) sesuai dengan sifat logaritma.\n",
        "kanan2_06 = np.log(abs(akar2_06)) + np.log(abs(1-(akar2_06)))\n",
        "#Bentuk Persamaan baru yang didapat setelah melakukan pengoperasian ruas kanan dan kiri dengan log adalah 2024*log(x)+log(1-x) =  n*log(x)+log(1-x), maka untuk menentukan nilai n (pindah ruas) adalah n = (2024*log(x)+log(1-x))/(log(x)+log(1-x)).\n",
        "n2_06 = (kiri2_06/kanan2_06)\n",
        "print(f\"Jadi telah ditemukan n1 bernilai {(n2_06)}\")\n",
        "\n",
        "#4. Setelah mensubstitusikan x1 dan x2 ke persamaan x**2024 - x**2025 = (x(1-x))**n, dengan menggunakan sifat logaritma, maka kita akan menemukan nilai n\n",
        "print(f\"\\nSehingga terdapat 2 Nilai n yang memenuhi persamaan  x**2024 - x**2025 = (x(1-x))**n yaitu {n1_06} dan {n2_06}\")"
      ],
      "metadata": {
        "colab": {
          "base_uri": "https://localhost:8080/"
        },
        "id": "l-v7_9F2Inly",
        "outputId": "c19c680e-8f6f-43e4-86da-6668cdfc80ca"
      },
      "execution_count": 4,
      "outputs": [
        {
          "output_type": "stream",
          "name": "stdout",
          "text": [
            "Diketahui format Persamaan Kuadrat = ax**2 + bx + c\n",
            "Masukkan nilai koefisien dari persamaan kuadrat PADA SOAL: \n",
            "Nilai koefisien a pada ax**2 adalah 1\n",
            "Nilai koefisien b pada bx adalah 1\n",
            "Nilai konstanta c -Nya adalah -1\n",
            "Bentuk persamaan kuadrat soal adalah 1x**2+1x+-1. \n",
            "\n",
            "Cari nilai x yang memenuhi persamaan kuadrat PADA SOAL\n",
            "Terlebih dahulu hitung Diskriminan dari persamaan kuadrat PADA SOAL\n",
            "Nilai Deskriminan dari Persamaan Kuadrat PADA SOAL adalah 5.0.\n",
            "Setelah menghitung nilai Diskriminan, maka selanjutnya menentukkan hasil kali akar-akar yang memenuhi persamaan kuadrat \n",
            "Diketahui, dengan menggunakan Rumus Hasil Kali Akar Persamaan Kuadrat (ABC) maka: \n",
            "Nilai dari x1 adalah 0.6180339887498949 dan nilai dari x2 adalah -1.618033988749895\n",
            "\n",
            "Diketahui nilai dari x1 adalah 0.6180339887498949, substitusikan ke persamaan x*2024 - x*2025 = (x*(1-x))**n untuk menemukan nilai n\n",
            "Jadi telah ditemukan n1 bernilai 675.3333333333331\n",
            "\n",
            "Selanjutnya diketahui nilai dari x2 adalah -1.618033988749895, substitusikan ke persamaan x*2024 - x*2025 = (x*(1-x))**n untuk menemukan nilai n\n",
            "Jadi telah ditemukan n1 bernilai 675.3333333333334\n",
            "\n",
            "Sehingga terdapat 2 Nilai n yang memenuhi persamaan  x**2024 - x**2025 = (x(1-x))**n yaitu 675.3333333333331 dan 675.3333333333334\n"
          ]
        }
      ]
    }
  ]
}