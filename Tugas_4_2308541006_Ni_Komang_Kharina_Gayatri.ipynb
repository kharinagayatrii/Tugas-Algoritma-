{
  "nbformat": 4,
  "nbformat_minor": 0,
  "metadata": {
    "colab": {
      "provenance": [],
      "authorship_tag": "ABX9TyN2ThmuHfrf0MP4S85T/3xs",
      "include_colab_link": true
    },
    "kernelspec": {
      "name": "python3",
      "display_name": "Python 3"
    },
    "language_info": {
      "name": "python"
    }
  },
  "cells": [
    {
      "cell_type": "markdown",
      "metadata": {
        "id": "view-in-github",
        "colab_type": "text"
      },
      "source": [
        "<a href=\"https://colab.research.google.com/github/kharinagayatrii/Tugas-Algoritma-/blob/main/Tugas_4_2308541006_Ni_Komang_Kharina_Gayatri.ipynb\" target=\"_parent\"><img src=\"https://colab.research.google.com/assets/colab-badge.svg\" alt=\"Open In Colab\"/></a>"
      ]
    },
    {
      "cell_type": "code",
      "execution_count": 1,
      "metadata": {
        "colab": {
          "base_uri": "https://localhost:8080/"
        },
        "id": "7NcOula07f0L",
        "outputId": "3d770bed-8e8c-4f21-f0bc-6ed3b5379174"
      },
      "outputs": [
        {
          "output_type": "stream",
          "name": "stdout",
          "text": [
            "['Iqbaal', 'Kiki', 'Bastian', 'Aldi']\n"
          ]
        }
      ],
      "source": [
        "Coboy_Junior06 = [ 'Iqbaal', 'Kiki', 'Bastian', 'Aldi' ]\n",
        "print(Coboy_Junior06)"
      ]
    },
    {
      "cell_type": "code",
      "source": [
        "Coboy_Junior06 = [ 'Iqbaal', 'Kiki', 'Bastian', 'Aldi' ]\n",
        "print(Coboy_Junior06[0])"
      ],
      "metadata": {
        "colab": {
          "base_uri": "https://localhost:8080/"
        },
        "id": "eO_X5Dc575Xe",
        "outputId": "4383e05a-7e11-4213-af07-a8074b9d641e"
      },
      "execution_count": 2,
      "outputs": [
        {
          "output_type": "stream",
          "name": "stdout",
          "text": [
            "Iqbaal\n"
          ]
        }
      ]
    },
    {
      "cell_type": "code",
      "source": [
        "Coboy_Junior06 = [ 'Iqbaal', 'Kiki', 'Bastian', 'Aldi' ]\n",
        "print(Coboy_Junior06[2])"
      ],
      "metadata": {
        "colab": {
          "base_uri": "https://localhost:8080/"
        },
        "id": "lTlsCd9b8CSu",
        "outputId": "a3508dc3-8f8c-468a-b65a-20105f4d99a0"
      },
      "execution_count": 3,
      "outputs": [
        {
          "output_type": "stream",
          "name": "stdout",
          "text": [
            "Bastian\n"
          ]
        }
      ]
    },
    {
      "cell_type": "code",
      "source": [
        "Coboy_Junior06 = [ 'Iqbaal', 'Kiki', 'Bastian', 'Aldi' ]\n",
        "print(Coboy_Junior06[-1])"
      ],
      "metadata": {
        "colab": {
          "base_uri": "https://localhost:8080/"
        },
        "id": "ziAkCndP8FUa",
        "outputId": "a6e2e8d0-a18f-4dfb-d4a0-ba705acbd0a7"
      },
      "execution_count": 4,
      "outputs": [
        {
          "output_type": "stream",
          "name": "stdout",
          "text": [
            "Aldi\n"
          ]
        }
      ]
    },
    {
      "cell_type": "code",
      "source": [
        "Coboy_Junior06 = [ 'Iqbaal', 'Kiki', 'Bastian', 'Aldi' ]\n",
        "Coboy_Junior06[0] = 'Iqbaal Suamiku'\n",
        "print(Coboy_Junior06)"
      ],
      "metadata": {
        "colab": {
          "base_uri": "https://localhost:8080/"
        },
        "id": "HQ2jyVIr8IwL",
        "outputId": "d48d00d5-4b90-47c1-e0c0-5ffb1ff07da2"
      },
      "execution_count": 5,
      "outputs": [
        {
          "output_type": "stream",
          "name": "stdout",
          "text": [
            "['Iqbaal Suamiku', 'Kiki', 'Bastian', 'Aldi']\n"
          ]
        }
      ]
    },
    {
      "cell_type": "code",
      "source": [
        "Coboy_Junior06 = [ 'Iqbaal', 'Kiki', 'Bastian', 'Aldi' ]\n",
        "print(Coboy_Junior06[1:4])"
      ],
      "metadata": {
        "colab": {
          "base_uri": "https://localhost:8080/"
        },
        "id": "HUpdCE6M8OfQ",
        "outputId": "b02a890d-ce10-4f0e-b5f4-fa38267b8164"
      },
      "execution_count": 6,
      "outputs": [
        {
          "output_type": "stream",
          "name": "stdout",
          "text": [
            "['Kiki', 'Bastian', 'Aldi']\n"
          ]
        }
      ]
    },
    {
      "cell_type": "code",
      "source": [
        "Coboy_Junior06 = [\"Iqbaal\", \"Aldi\", \"Kiki\", \"Bastian\"]\n",
        "Coboy_Junior06.append(\"Kharina\")\n",
        "print(Coboy_Junior06)"
      ],
      "metadata": {
        "colab": {
          "base_uri": "https://localhost:8080/"
        },
        "id": "1B2QC4vX8QlG",
        "outputId": "c52cdd1a-0c1b-412d-d668-92e254272ee4"
      },
      "execution_count": 7,
      "outputs": [
        {
          "output_type": "stream",
          "name": "stdout",
          "text": [
            "['Iqbaal', 'Aldi', 'Kiki', 'Bastian', 'Kharina']\n"
          ]
        }
      ]
    },
    {
      "cell_type": "code",
      "source": [
        "Coboy_Junior06 = [\"Iqbaal\", \"Aldi\", \"Kiki\", \"Bastian\"]\n",
        "Coboy_Junior06.insert(0, \"Angga\")\n",
        "print(Coboy_Junior06)"
      ],
      "metadata": {
        "colab": {
          "base_uri": "https://localhost:8080/"
        },
        "id": "Af5kIWqA8TKj",
        "outputId": "f55859e4-5a2c-4192-a3c5-29664cf158ab"
      },
      "execution_count": 8,
      "outputs": [
        {
          "output_type": "stream",
          "name": "stdout",
          "text": [
            "['Angga', 'Iqbaal', 'Aldi', 'Kiki', 'Bastian']\n"
          ]
        }
      ]
    },
    {
      "cell_type": "code",
      "source": [
        "Coboy_Junior06 = [\"Iqbaal\", \"Aldi\", \"Kiki\", \"Bastian\", \"Kharina\"]\n",
        "Coboy_Junior06.remove(\"Kharina\")\n",
        "print(Coboy_Junior06)"
      ],
      "metadata": {
        "colab": {
          "base_uri": "https://localhost:8080/"
        },
        "id": "HXUr2DDv8cKW",
        "outputId": "644bfcd5-b944-4cef-d93f-a3f8638a14e4"
      },
      "execution_count": 9,
      "outputs": [
        {
          "output_type": "stream",
          "name": "stdout",
          "text": [
            "['Iqbaal', 'Aldi', 'Kiki', 'Bastian']\n"
          ]
        }
      ]
    },
    {
      "cell_type": "code",
      "source": [
        "Coboy_Junior06 = [\"Iqbaal\", \"Aldi\", \"Kiki\", \"Bastian\", \"Angga\"]\n",
        "print(\"Kharina\" in Coboy_Junior06)"
      ],
      "metadata": {
        "colab": {
          "base_uri": "https://localhost:8080/"
        },
        "id": "3zZZMTAP8fuB",
        "outputId": "4a3be62b-5136-405a-b641-9e0499fccf5c"
      },
      "execution_count": 10,
      "outputs": [
        {
          "output_type": "stream",
          "name": "stdout",
          "text": [
            "False\n"
          ]
        }
      ]
    },
    {
      "cell_type": "code",
      "source": [
        "Coboy_Junior06 = [\"Iqbaal\", \"Aldi\", \"Kiki\", \"Bastian\", \"Angga\"]\n",
        "print(\"Angga\" in Coboy_Junior06)"
      ],
      "metadata": {
        "colab": {
          "base_uri": "https://localhost:8080/"
        },
        "id": "SGsmZGQ68jKz",
        "outputId": "0a003d3c-3939-4b46-feaa-665b90bed4f9"
      },
      "execution_count": 11,
      "outputs": [
        {
          "output_type": "stream",
          "name": "stdout",
          "text": [
            "True\n"
          ]
        }
      ]
    },
    {
      "cell_type": "code",
      "source": [
        "Artika_Canggu06 = ['Artika', 'Temi', 'Destha', 'Nitha', 'Kharina']\n",
        "for jenis in Artika_Canggu06 :\n",
        "    print(jenis)"
      ],
      "metadata": {
        "colab": {
          "base_uri": "https://localhost:8080/"
        },
        "id": "q9seWcYl8mVm",
        "outputId": "216cb767-e975-4925-93e1-d7fd984ca8d5"
      },
      "execution_count": 12,
      "outputs": [
        {
          "output_type": "stream",
          "name": "stdout",
          "text": [
            "Artika\n",
            "Temi\n",
            "Destha\n",
            "Nitha\n",
            "Kharina\n"
          ]
        }
      ]
    },
    {
      "cell_type": "code",
      "source": [
        "i = 0\n",
        "while i < len(Artika_Canggu06):\n",
        "    print(Artika_Canggu06[i])\n",
        "    i+=1"
      ],
      "metadata": {
        "colab": {
          "base_uri": "https://localhost:8080/"
        },
        "id": "hygABVIt8qN_",
        "outputId": "0c333fe8-7d16-44a4-d03d-4308479b3909"
      },
      "execution_count": 13,
      "outputs": [
        {
          "output_type": "stream",
          "name": "stdout",
          "text": [
            "Artika\n",
            "Temi\n",
            "Destha\n",
            "Nitha\n",
            "Kharina\n"
          ]
        }
      ]
    }
  ]
}